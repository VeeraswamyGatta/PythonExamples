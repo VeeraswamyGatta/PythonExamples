{
  "nbformat": 4,
  "nbformat_minor": 0,
  "metadata": {
    "colab": {
      "name": "comprehensions.ipynb",
      "provenance": [],
      "authorship_tag": "ABX9TyN8QvOJ85ZN9mfAV0YPKxXd",
      "include_colab_link": true
    },
    "kernelspec": {
      "name": "python3",
      "display_name": "Python 3"
    },
    "language_info": {
      "name": "python"
    }
  },
  "cells": [
    {
      "cell_type": "markdown",
      "metadata": {
        "id": "view-in-github",
        "colab_type": "text"
      },
      "source": [
        "<a href=\"https://colab.research.google.com/github/veeraswamy87/PythonExamples/blob/master/comprehensions.ipynb\" target=\"_parent\"><img src=\"https://colab.research.google.com/assets/colab-badge.svg\" alt=\"Open In Colab\"/></a>"
      ]
    },
    {
      "cell_type": "code",
      "execution_count": null,
      "metadata": {
        "id": "7XOMIiexz_hy"
      },
      "outputs": [],
      "source": [
        "nums = [1,2,3,4,5,6,7,8,9,10]\n",
        "\n",
        "# I want 'n' for each 'n' in nums\n",
        "my_list = []\n",
        "for n in nums:\n",
        "  my_list.append(n)\n",
        "print my_list\n",
        "\n",
        "print [n for n in nums]\n",
        "\n",
        "# I want 'n*n' for each 'n' in nums\n",
        "# my_list = []\n",
        "# for n in nums:\n",
        "#   my_list.append(n*n)\n",
        "# print my_list\n",
        "\n",
        "# Using a map + lambda\n",
        "# my_list = map(lambda n: n*n, nums)\n",
        "# print my_list\n",
        "\n",
        "# I want 'n' for each 'n' in nums if 'n' is even\n",
        "# my_list = []\n",
        "# for n in nums:\n",
        "#   if n%2 == 0:\n",
        "#     my_list.append(n)\n",
        "# print my_list\n",
        "\n",
        "# Using a filter + lambda\n",
        "# my_list = filter(lambda n: n%2 == 0, nums)\n",
        "# print my_list\n",
        "\n",
        "# I want a (letter, num) pair for each letter in 'abcd' and each number in '0123'\n",
        "# my_list = []\n",
        "# for letter in 'abcd':\n",
        "#   for num in range(4):\n",
        "#     my_list.append((letter,num))\n",
        "# print my_list\n",
        "\n",
        "# Dictionary Comprehensions\n",
        "names = ['Bruce', 'Clark', 'Peter', 'Logan', 'Wade']\n",
        "heros = ['Batman', 'Superman', 'Spiderman', 'Wolverine', 'Deadpool']\n",
        "# print zip(names, heros)\n",
        "\n",
        "# I want a dict{'name': 'hero'} for each name,hero in zip(names, heros)\n",
        "# my_dict = {}\n",
        "# for name, hero in zip(names, heros):\n",
        "#     my_dict[name] = hero\n",
        "# print my_dict\n",
        "\n",
        "\n",
        "\n",
        "# If name not equal to Peter\n",
        "\n",
        "# Set Comprehensions\n",
        "# nums = [1,1,2,1,3,4,3,4,5,5,6,7,8,7,9,9]\n",
        "# my_set = set()\n",
        "# for n in nums:\n",
        "#     my_set.add(n)\n",
        "# print my_set\n",
        "\n",
        "\n",
        "# Generator Expressions\n",
        "# I want to yield 'n*n' for each 'n' in nums\n",
        "nums = [1,2,3,4,5,6,7,8,9,10]\n",
        "\n",
        "# def gen_func(nums):\n",
        "#     for n in nums:\n",
        "#         yield n*n\n",
        "\n",
        "# my_gen = gen_func(nums)\n",
        "\n",
        "# for i in my_gen:\n",
        "#     print i"
      ]
    }
  ]
}