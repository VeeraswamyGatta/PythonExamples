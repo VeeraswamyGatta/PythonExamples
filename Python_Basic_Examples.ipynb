{
  "nbformat": 4,
  "nbformat_minor": 0,
  "metadata": {
    "colab": {
      "name": "Python_Basic_Examples.ipynb",
      "provenance": [],
      "authorship_tag": "ABX9TyPByomDf32lTnhhJxjUYZle",
      "include_colab_link": true
    },
    "kernelspec": {
      "name": "python3",
      "display_name": "Python 3"
    },
    "language_info": {
      "name": "python"
    }
  },
  "cells": [
    {
      "cell_type": "markdown",
      "metadata": {
        "id": "view-in-github",
        "colab_type": "text"
      },
      "source": [
        "<a href=\"https://colab.research.google.com/github/veeraswamy87/PythonExamples/blob/master/Python_Basic_Examples.ipynb\" target=\"_parent\"><img src=\"https://colab.research.google.com/assets/colab-badge.svg\" alt=\"Open In Colab\"/></a>"
      ]
    },
    {
      "cell_type": "markdown",
      "source": [
        "Concat Two Tuples"
      ],
      "metadata": {
        "id": "xRTt3cN_tlJL"
      }
    },
    {
      "cell_type": "code",
      "execution_count": 8,
      "metadata": {
        "id": "QBG1-XQns7wv"
      },
      "outputs": [],
      "source": [
        "tup1 = (\"Veeraswamy\", 2 ,True)"
      ]
    },
    {
      "cell_type": "code",
      "source": [
        "tup2 = (\"Gatta\", 3 ,False)"
      ],
      "metadata": {
        "id": "4WrCb62KtM7R"
      },
      "execution_count": 6,
      "outputs": []
    },
    {
      "cell_type": "code",
      "source": [
        "tup1 + tup2"
      ],
      "metadata": {
        "colab": {
          "base_uri": "https://localhost:8080/"
        },
        "id": "B47lsH8ytSqu",
        "outputId": "9a8b903d-17bc-44c6-fc1a-570879d23933"
      },
      "execution_count": 9,
      "outputs": [
        {
          "output_type": "execute_result",
          "data": {
            "text/plain": [
              "('Veeraswamy', 2, True, 'Gatta', 3, False)"
            ]
          },
          "metadata": {},
          "execution_count": 9
        }
      ]
    },
    {
      "cell_type": "markdown",
      "source": [
        "NumPy"
      ],
      "metadata": {
        "id": "FmffHOZnveHv"
      }
    },
    {
      "cell_type": "code",
      "source": [
        "import numpy as np\n",
        "n1=np.zeros((5,5))\n",
        "print(n1)"
      ],
      "metadata": {
        "colab": {
          "base_uri": "https://localhost:8080/"
        },
        "id": "56q-ZybEvhJU",
        "outputId": "61273cfc-4288-4428-fdce-9b531c8b3a2e"
      },
      "execution_count": 12,
      "outputs": [
        {
          "output_type": "stream",
          "name": "stdout",
          "text": [
            "[[0. 0. 0. 0. 0.]\n",
            " [0. 0. 0. 0. 0.]\n",
            " [0. 0. 0. 0. 0.]\n",
            " [0. 0. 0. 0. 0.]\n",
            " [0. 0. 0. 0. 0.]]\n"
          ]
        }
      ]
    },
    {
      "cell_type": "markdown",
      "source": [
        "What is Pandas \n",
        "\n",
        "It deals with large variety of data and its open source library\n",
        "\n",
        "it provides two  fantastic data structures ( Series and DataFames)\n",
        "\n",
        "Dataframes - its mutable data type present in pandas library and provides support for heterogeneous data"
      ],
      "metadata": {
        "id": "A6FuekaDwAKw"
      }
    },
    {
      "cell_type": "code",
      "source": [
        "import pandas as pd\n",
        "\n",
        "df = pd.read_csv(\"/content/sample_data/california_housing_test.csv\")\n",
        "df.head(2)"
      ],
      "metadata": {
        "id": "A9NX45p-wEuR"
      },
      "execution_count": null,
      "outputs": []
    },
    {
      "cell_type": "code",
      "source": [
        "import pandas as pd\n",
        "\n",
        "data = [\"1\", \"two\",\"3.5\",\"4\"]\n",
        "\n",
        "series = pd.Series(data)\n",
        "print(series)\n",
        "print(type(series))"
      ],
      "metadata": {
        "colab": {
          "base_uri": "https://localhost:8080/"
        },
        "id": "mOnV7gRYzJuC",
        "outputId": "b012dcc9-c72e-49e6-f7e7-2326b9a0c690"
      },
      "execution_count": 19,
      "outputs": [
        {
          "output_type": "stream",
          "name": "stdout",
          "text": [
            "0      1\n",
            "1    two\n",
            "2    3.5\n",
            "3      4\n",
            "dtype: object\n",
            "<class 'pandas.core.series.Series'>\n"
          ]
        }
      ]
    },
    {
      "cell_type": "code",
      "source": [
        "import pandas as pd\n",
        "\n",
        "df = pd.DataFrame({ \"Name\": [\"veeraswamy\",\"siva\",\"sravan\",\"nandhu\"], \"Age\":[35,35,6,5]})\n",
        "\n",
        "print(df)\n",
        "\n",
        "df.groupby(\"Age\").count()\n"
      ],
      "metadata": {
        "colab": {
          "base_uri": "https://localhost:8080/",
          "height": 267
        },
        "id": "l1u9VTDp0SYQ",
        "outputId": "3e80c58d-aa25-4dd2-8709-42fb32b041d7"
      },
      "execution_count": 23,
      "outputs": [
        {
          "output_type": "stream",
          "name": "stdout",
          "text": [
            "         Name  Age\n",
            "0  veeraswamy   35\n",
            "1        siva   35\n",
            "2      sravan    6\n",
            "3      nandhu    5\n"
          ]
        },
        {
          "output_type": "execute_result",
          "data": {
            "text/plain": [
              "     Name\n",
              "Age      \n",
              "5       1\n",
              "6       1\n",
              "35      2"
            ],
            "text/html": [
              "\n",
              "  <div id=\"df-2a610228-1de9-4bdc-8f6b-922227d54e8e\">\n",
              "    <div class=\"colab-df-container\">\n",
              "      <div>\n",
              "<style scoped>\n",
              "    .dataframe tbody tr th:only-of-type {\n",
              "        vertical-align: middle;\n",
              "    }\n",
              "\n",
              "    .dataframe tbody tr th {\n",
              "        vertical-align: top;\n",
              "    }\n",
              "\n",
              "    .dataframe thead th {\n",
              "        text-align: right;\n",
              "    }\n",
              "</style>\n",
              "<table border=\"1\" class=\"dataframe\">\n",
              "  <thead>\n",
              "    <tr style=\"text-align: right;\">\n",
              "      <th></th>\n",
              "      <th>Name</th>\n",
              "    </tr>\n",
              "    <tr>\n",
              "      <th>Age</th>\n",
              "      <th></th>\n",
              "    </tr>\n",
              "  </thead>\n",
              "  <tbody>\n",
              "    <tr>\n",
              "      <th>5</th>\n",
              "      <td>1</td>\n",
              "    </tr>\n",
              "    <tr>\n",
              "      <th>6</th>\n",
              "      <td>1</td>\n",
              "    </tr>\n",
              "    <tr>\n",
              "      <th>35</th>\n",
              "      <td>2</td>\n",
              "    </tr>\n",
              "  </tbody>\n",
              "</table>\n",
              "</div>\n",
              "      <button class=\"colab-df-convert\" onclick=\"convertToInteractive('df-2a610228-1de9-4bdc-8f6b-922227d54e8e')\"\n",
              "              title=\"Convert this dataframe to an interactive table.\"\n",
              "              style=\"display:none;\">\n",
              "        \n",
              "  <svg xmlns=\"http://www.w3.org/2000/svg\" height=\"24px\"viewBox=\"0 0 24 24\"\n",
              "       width=\"24px\">\n",
              "    <path d=\"M0 0h24v24H0V0z\" fill=\"none\"/>\n",
              "    <path d=\"M18.56 5.44l.94 2.06.94-2.06 2.06-.94-2.06-.94-.94-2.06-.94 2.06-2.06.94zm-11 1L8.5 8.5l.94-2.06 2.06-.94-2.06-.94L8.5 2.5l-.94 2.06-2.06.94zm10 10l.94 2.06.94-2.06 2.06-.94-2.06-.94-.94-2.06-.94 2.06-2.06.94z\"/><path d=\"M17.41 7.96l-1.37-1.37c-.4-.4-.92-.59-1.43-.59-.52 0-1.04.2-1.43.59L10.3 9.45l-7.72 7.72c-.78.78-.78 2.05 0 2.83L4 21.41c.39.39.9.59 1.41.59.51 0 1.02-.2 1.41-.59l7.78-7.78 2.81-2.81c.8-.78.8-2.07 0-2.86zM5.41 20L4 18.59l7.72-7.72 1.47 1.35L5.41 20z\"/>\n",
              "  </svg>\n",
              "      </button>\n",
              "      \n",
              "  <style>\n",
              "    .colab-df-container {\n",
              "      display:flex;\n",
              "      flex-wrap:wrap;\n",
              "      gap: 12px;\n",
              "    }\n",
              "\n",
              "    .colab-df-convert {\n",
              "      background-color: #E8F0FE;\n",
              "      border: none;\n",
              "      border-radius: 50%;\n",
              "      cursor: pointer;\n",
              "      display: none;\n",
              "      fill: #1967D2;\n",
              "      height: 32px;\n",
              "      padding: 0 0 0 0;\n",
              "      width: 32px;\n",
              "    }\n",
              "\n",
              "    .colab-df-convert:hover {\n",
              "      background-color: #E2EBFA;\n",
              "      box-shadow: 0px 1px 2px rgba(60, 64, 67, 0.3), 0px 1px 3px 1px rgba(60, 64, 67, 0.15);\n",
              "      fill: #174EA6;\n",
              "    }\n",
              "\n",
              "    [theme=dark] .colab-df-convert {\n",
              "      background-color: #3B4455;\n",
              "      fill: #D2E3FC;\n",
              "    }\n",
              "\n",
              "    [theme=dark] .colab-df-convert:hover {\n",
              "      background-color: #434B5C;\n",
              "      box-shadow: 0px 1px 3px 1px rgba(0, 0, 0, 0.15);\n",
              "      filter: drop-shadow(0px 1px 2px rgba(0, 0, 0, 0.3));\n",
              "      fill: #FFFFFF;\n",
              "    }\n",
              "  </style>\n",
              "\n",
              "      <script>\n",
              "        const buttonEl =\n",
              "          document.querySelector('#df-2a610228-1de9-4bdc-8f6b-922227d54e8e button.colab-df-convert');\n",
              "        buttonEl.style.display =\n",
              "          google.colab.kernel.accessAllowed ? 'block' : 'none';\n",
              "\n",
              "        async function convertToInteractive(key) {\n",
              "          const element = document.querySelector('#df-2a610228-1de9-4bdc-8f6b-922227d54e8e');\n",
              "          const dataTable =\n",
              "            await google.colab.kernel.invokeFunction('convertToInteractive',\n",
              "                                                     [key], {});\n",
              "          if (!dataTable) return;\n",
              "\n",
              "          const docLinkHtml = 'Like what you see? Visit the ' +\n",
              "            '<a target=\"_blank\" href=https://colab.research.google.com/notebooks/data_table.ipynb>data table notebook</a>'\n",
              "            + ' to learn more about interactive tables.';\n",
              "          element.innerHTML = '';\n",
              "          dataTable['output_type'] = 'display_data';\n",
              "          await google.colab.output.renderOutput(dataTable, element);\n",
              "          const docLink = document.createElement('div');\n",
              "          docLink.innerHTML = docLinkHtml;\n",
              "          element.appendChild(docLink);\n",
              "        }\n",
              "      </script>\n",
              "    </div>\n",
              "  </div>\n",
              "  "
            ]
          },
          "metadata": {},
          "execution_count": 23
        }
      ]
    },
    {
      "cell_type": "code",
      "source": [
        "import pandas as pd\n",
        "\n",
        "df =pd.DataFrame()\n",
        "\n",
        "names = ['Veera','Siva','Sravan','Nandhu']\n",
        "\n",
        "year = [1988,1988,2016,2018]\n",
        "\n",
        "df['names']=names\n",
        "df['year']=year\n",
        "\n",
        "print(df)"
      ],
      "metadata": {
        "colab": {
          "base_uri": "https://localhost:8080/"
        },
        "id": "XAvmQsSx19u1",
        "outputId": "286b240c-8db4-4460-e80d-0d49dd940612"
      },
      "execution_count": 25,
      "outputs": [
        {
          "output_type": "stream",
          "name": "stdout",
          "text": [
            "    names  year\n",
            "0   Veera  1988\n",
            "1    Siva  1988\n",
            "2  Sravan  2016\n",
            "3  Nandhu  2018\n"
          ]
        }
      ]
    },
    {
      "cell_type": "code",
      "source": [
        "import pandas as pd\n",
        "\n",
        "\n",
        "names = ['Veera','Siva','Sravan','Nandhu']\n",
        "\n",
        "year = [1988,1988,2016,2018]\n",
        "\n",
        "d={'names':names,\"year\":year}\n",
        "\n",
        "df =pd.DataFrame(d)\n",
        "\n",
        "print(df)"
      ],
      "metadata": {
        "colab": {
          "base_uri": "https://localhost:8080/"
        },
        "id": "3n5r8C_-3DjD",
        "outputId": "79eb594e-c614-4b42-be16-1cc732c27f5f"
      },
      "execution_count": 26,
      "outputs": [
        {
          "output_type": "stream",
          "name": "stdout",
          "text": [
            "    names  year\n",
            "0   Veera  1988\n",
            "1    Siva  1988\n",
            "2  Sravan  2016\n",
            "3  Nandhu  2018\n"
          ]
        }
      ]
    },
    {
      "cell_type": "markdown",
      "source": [
        "Dictonary :   {}    {key:value,key:value}\n",
        "\n",
        "List :  []   [\"value\",\"value\"]\n",
        "\n",
        "Tupe : ()   (\"value\",'value')"
      ],
      "metadata": {
        "id": "7r0PB0aw3c45"
      }
    },
    {
      "cell_type": "markdown",
      "source": [
        "Pandas support left,right,inner and outer join and its horizontal stacking\n",
        "\n",
        "For vertical stacking ,need to use contact method"
      ],
      "metadata": {
        "id": "_pDgGx5I4T_R"
      }
    },
    {
      "cell_type": "code",
      "source": [
        "# Single Line Comment\n",
        "\n",
        "\"\"\"\n",
        "Mutliple lines \n",
        "\n",
        "Comment\n",
        "\n",
        "\"\"\"\n",
        "\n",
        "print('Hello')"
      ],
      "metadata": {
        "colab": {
          "base_uri": "https://localhost:8080/"
        },
        "id": "1j-_-FfW60JY",
        "outputId": "3ab972f6-2a0a-41d0-8f37-d356d8f2054f"
      },
      "execution_count": 27,
      "outputs": [
        {
          "output_type": "stream",
          "name": "stdout",
          "text": [
            "Hello\n"
          ]
        }
      ]
    },
    {
      "cell_type": "markdown",
      "source": [
        "Tuples are immutable ,you cant add anthing to exist tuple"
      ],
      "metadata": {
        "id": "GDnG9IVN7K8h"
      }
    },
    {
      "cell_type": "code",
      "source": [
        "import numpy as np\n",
        "\n",
        "array= [10,30,5,25,26]\n",
        "\n",
        "n1=np.array([2,3,5,6])\n",
        "\n",
        "print(np.median(array))\n",
        "print(np.min(array))\n",
        "print(np.max(array))\n",
        "print(np.std(array))\n",
        "\n",
        "print(np.min(n1))"
      ],
      "metadata": {
        "colab": {
          "base_uri": "https://localhost:8080/"
        },
        "id": "_oS6Ey7y8CrO",
        "outputId": "3a5b601d-4fa6-4029-d92e-527dfe2bf10b"
      },
      "execution_count": 31,
      "outputs": [
        {
          "output_type": "stream",
          "name": "stdout",
          "text": [
            "25.0\n",
            "5\n",
            "30\n",
            "9.826494797230596\n",
            "2\n"
          ]
        }
      ]
    },
    {
      "cell_type": "code",
      "source": [
        "str = 'veerSwamy Gatta'\n",
        "\n",
        "print(str.lower())\n",
        "print(str.upper())\n",
        "print(str.capitalize())\n",
        "print(str.split())\n",
        "\n",
        "split =str.split()\n",
        "\n",
        "for s in split:\n",
        "  print(s.capitalize())"
      ],
      "metadata": {
        "colab": {
          "base_uri": "https://localhost:8080/"
        },
        "id": "k8LxxgtG9Hjf",
        "outputId": "6f4eec52-1eaa-4245-ffec-1dc0c3e61ec8"
      },
      "execution_count": 37,
      "outputs": [
        {
          "output_type": "stream",
          "name": "stdout",
          "text": [
            "veerswamy gatta\n",
            "VEERSWAMY GATTA\n",
            "Veerswamy gatta\n",
            "['veerSwamy', 'Gatta']\n",
            "Veerswamy\n",
            "Gatta\n"
          ]
        }
      ]
    },
    {
      "cell_type": "code",
      "source": [
        "l = [1,2,3,4,5,6,8,9]\n",
        "l.insert(6,7)\n",
        "print(l)"
      ],
      "metadata": {
        "colab": {
          "base_uri": "https://localhost:8080/"
        },
        "id": "V9jaMQZ7bnty",
        "outputId": "d05db0a1-b52f-444d-da03-d9b0fdbab5bf"
      },
      "execution_count": 7,
      "outputs": [
        {
          "output_type": "stream",
          "name": "stdout",
          "text": [
            "[1, 2, 3, 4, 5, 6, 7, 8, 9]\n"
          ]
        }
      ]
    },
    {
      "cell_type": "code",
      "source": [
        "\n",
        "l = ['v','s','s','n']\n",
        "\n",
        "unique=list(dict.fromkeys(l))\n",
        "print(unique)"
      ],
      "metadata": {
        "colab": {
          "base_uri": "https://localhost:8080/"
        },
        "id": "P22qH9RDcX03",
        "outputId": "ae449fda-4a2d-479f-8c82-b86e8a5a0e11"
      },
      "execution_count": 8,
      "outputs": [
        {
          "output_type": "stream",
          "name": "stdout",
          "text": [
            "['v', 's', 'n']\n"
          ]
        }
      ]
    },
    {
      "cell_type": "markdown",
      "source": [
        "Comprehension - tranforming one list to anther list"
      ],
      "metadata": {
        "id": "yTEYSYr-dtCD"
      }
    },
    {
      "cell_type": "code",
      "source": [
        "list = [i for i in range(1000)]\n",
        "print(list)"
      ],
      "metadata": {
        "id": "mJ5tT8FIeClw"
      },
      "execution_count": null,
      "outputs": []
    },
    {
      "cell_type": "code",
      "source": [
        "l = [1,2,3,4,5]\n",
        "\n",
        "def multiply(n):\n",
        "    return n * 2\n",
        "\n",
        "\n",
        "m =map(multiply,l)\n",
        "\n",
        "print(list(m))"
      ],
      "metadata": {
        "colab": {
          "base_uri": "https://localhost:8080/"
        },
        "id": "PA0q51Mpf9Kl",
        "outputId": "3830aa75-df76-4687-ef53-a3ea8ef218ab"
      },
      "execution_count": 21,
      "outputs": [
        {
          "output_type": "stream",
          "name": "stdout",
          "text": [
            "[2, 4, 6, 8, 10]\n"
          ]
        }
      ]
    },
    {
      "cell_type": "code",
      "source": [
        "class Cons:\n",
        "\n",
        "   def __init__(self,name,age):\n",
        "       self.name=name\n",
        "       self.age=age\n",
        "  \n",
        "   def sayHello(self):\n",
        "       print(\"Hello \" , self.name + \"  your age is \", self.age)\n",
        "\n",
        "con = Cons(\"veeraswamy Gatta\",20)\n",
        "con.sayHello()\n",
        "  "
      ],
      "metadata": {
        "colab": {
          "base_uri": "https://localhost:8080/"
        },
        "id": "9J2NcEtKhceG",
        "outputId": "ae63bc16-2af2-45b5-cc2b-ad7e8ed5cf98"
      },
      "execution_count": 43,
      "outputs": [
        {
          "output_type": "stream",
          "name": "stdout",
          "text": [
            "Hello  veeraswamy Gatta  your age is  20\n"
          ]
        }
      ]
    },
    {
      "cell_type": "code",
      "source": [
        "v =\"veeraswAMY,GATTA,sravan,kumar\"\n",
        "v1 = v.split(\",\")\n",
        "print(v1)"
      ],
      "metadata": {
        "colab": {
          "base_uri": "https://localhost:8080/"
        },
        "id": "AfMFQO5dmdO6",
        "outputId": "8e260595-bc62-4e69-c4d8-38510406b793"
      },
      "execution_count": 44,
      "outputs": [
        {
          "output_type": "stream",
          "name": "stdout",
          "text": [
            "['veeraswAMY', 'GATTA', 'sravan', 'kumar']\n"
          ]
        }
      ]
    },
    {
      "cell_type": "code",
      "source": [
        "sum = lambda s: s+10\n",
        "\n",
        "print(sum(10))"
      ],
      "metadata": {
        "colab": {
          "base_uri": "https://localhost:8080/"
        },
        "id": "Lve6O8jknLOL",
        "outputId": "3bef16c2-068a-4c30-97ef-b0499385a515"
      },
      "execution_count": 46,
      "outputs": [
        {
          "output_type": "stream",
          "name": "stdout",
          "text": [
            "{20}\n"
          ]
        }
      ]
    },
    {
      "cell_type": "code",
      "source": [
        "func = lambda a, b: (\n",
        "    b - a if a <= b else\n",
        "    a * b\n",
        ")\n",
        "\n",
        "print(func(2, 10))\n"
      ],
      "metadata": {
        "colab": {
          "base_uri": "https://localhost:8080/"
        },
        "id": "gxK-4NqnoDv3",
        "outputId": "6f7d34f5-7332-4e06-d2fd-dd2b69e271bd"
      },
      "execution_count": 48,
      "outputs": [
        {
          "output_type": "stream",
          "name": "stdout",
          "text": [
            "8\n"
          ]
        }
      ]
    },
    {
      "cell_type": "code",
      "source": [
        "sequences = [10,2,8,7,5,4,3,11,0, 1]\n",
        "filtered_result = filter (lambda x: x > 4, sequences) \n",
        "print(list(filtered_result))"
      ],
      "metadata": {
        "colab": {
          "base_uri": "https://localhost:8080/"
        },
        "id": "D7EmYb6EpARx",
        "outputId": "49bf0478-e982-4bc0-e9f8-31ace44e670e"
      },
      "execution_count": 49,
      "outputs": [
        {
          "output_type": "stream",
          "name": "stdout",
          "text": [
            "[10, 8, 7, 5, 11]\n"
          ]
        }
      ]
    },
    {
      "cell_type": "code",
      "source": [
        "from functools import reduce\n",
        "sequences = [1,2,3,4]\n",
        "product = reduce (lambda x, y: x*y, sequences)\n",
        "print(product)"
      ],
      "metadata": {
        "colab": {
          "base_uri": "https://localhost:8080/"
        },
        "id": "s1MP2aVyp14J",
        "outputId": "c9b76ebf-b8f3-476a-eeee-78600c654adb"
      },
      "execution_count": 52,
      "outputs": [
        {
          "output_type": "stream",
          "name": "stdout",
          "text": [
            "24\n"
          ]
        }
      ]
    },
    {
      "cell_type": "code",
      "source": [
        "class CSStudent:\n",
        "    stream = 'cse'                  # Class Variable\n",
        "    def __init__(self,name,roll):\n",
        "        self.name = name            # Instance Variable\n",
        "        self.roll = roll            # Instance Variable\n",
        " \n",
        "# Objects of CSStudent class\n",
        "a = CSStudent('Geek', 1)\n",
        "b = CSStudent('Nerd', 2)\n",
        " \n",
        "print(a.stream)  # prints \"cse\"\n",
        "print(b.stream)  # prints \"cse\"\n",
        "print(a.name)    # prints \"Geek\"\n",
        "print(b.name)    # prints \"Nerd\"\n",
        "print(a.roll)    # prints \"1\"\n",
        "print(b.roll)    # prints \"2\"\n",
        " \n",
        "# Class variables can be accessed using class\n",
        "# name also\n",
        "print(CSStudent.stream) # prints \"cse\"\n",
        " \n",
        "# Now if we change the stream for just a it won't be changed for b\n",
        "a.stream = 'ece'\n",
        "print(a.stream) # prints 'ece'\n",
        "print(b.stream) # prints 'cse'\n",
        " \n",
        "# To change the stream for all instances of the class we can change it\n",
        "# directly from the class\n",
        "CSStudent.stream = 'mech'\n",
        " \n",
        "print(a.stream) # prints 'ece'\n",
        "print(b.stream) # prints 'mech'c"
      ],
      "metadata": {
        "colab": {
          "base_uri": "https://localhost:8080/"
        },
        "id": "nV5_56PpuPsj",
        "outputId": "72044a3e-290e-4027-e0bb-b0ffb8d16f63"
      },
      "execution_count": 53,
      "outputs": [
        {
          "output_type": "stream",
          "name": "stdout",
          "text": [
            "cse\n",
            "cse\n",
            "Geek\n",
            "Nerd\n",
            "1\n",
            "2\n",
            "cse\n",
            "ece\n",
            "cse\n",
            "ece\n",
            "mech\n"
          ]
        }
      ]
    },
    {
      "cell_type": "code",
      "source": [
        "a = [1, 2, 3]\n",
        "try:\n",
        "    print (\"Second element = %d\" %(a[1]))\n",
        " \n",
        "    # Throws error since there are only 3 elements in array\n",
        "    print (\"Fourth element = %d\" %(a[3]))\n",
        " \n",
        "except:\n",
        "    print (\"An error occurred\")"
      ],
      "metadata": {
        "colab": {
          "base_uri": "https://localhost:8080/"
        },
        "id": "3sC2iBnFxp-3",
        "outputId": "7214eb1b-5621-4c20-80b0-17f0a9dba9f4"
      },
      "execution_count": 56,
      "outputs": [
        {
          "output_type": "stream",
          "name": "stdout",
          "text": [
            "Second element = 2\n",
            "An error occurred\n"
          ]
        }
      ]
    },
    {
      "cell_type": "code",
      "source": [
        "def fun(a):\n",
        "    if a < 4:\n",
        " \n",
        "        # throws ZeroDivisionError for a = 3\n",
        "        b = a/(a-3)\n",
        " \n",
        "    # throws NameError if a >= 4\n",
        "    print(\"Value of b = \", b)\n",
        "     \n",
        "try:\n",
        "    fun(2)\n",
        "    fun(5)\n",
        " \n",
        "# note that braces () are necessary here for\n",
        "# multiple exceptions\n",
        "except ZeroDivisionError:\n",
        "    print(\"ZeroDivisionError Occurred and Handled\")\n",
        "except NameError:\n",
        "    print(\"NameError Occurred and Handled\")"
      ],
      "metadata": {
        "colab": {
          "base_uri": "https://localhost:8080/"
        },
        "id": "97PjpIbbyD3K",
        "outputId": "a8b5fa5d-16fb-43c9-abe3-6adc1d7482be"
      },
      "execution_count": 60,
      "outputs": [
        {
          "output_type": "stream",
          "name": "stdout",
          "text": [
            "Value of b =  -2.0\n",
            "NameError Occurred and Handled\n"
          ]
        }
      ]
    },
    {
      "cell_type": "code",
      "source": [
        "try:\n",
        "    raise NameError(\"Hi there\")  # Raise Error\n",
        "except NameError:\n",
        "    print (\"An exception\")\n",
        "    raise  # To determine whether the exception was raised or not"
      ],
      "metadata": {
        "colab": {
          "base_uri": "https://localhost:8080/"
        },
        "id": "blM7QsFhy3Su",
        "outputId": "9d09c86c-2eeb-4380-cb49-77653d34e246"
      },
      "execution_count": 64,
      "outputs": [
        {
          "output_type": "stream",
          "name": "stdout",
          "text": [
            "An exception\n"
          ]
        }
      ]
    },
    {
      "cell_type": "code",
      "source": [
        "# initialize the amount variable\n",
        "amount = 10000\n",
        "  \n",
        "# check that You are eligible to\n",
        "#  purchase Dsa Self Paced or not\n",
        "if(amount>2999):\n",
        "    print(\"You are eligible to purchase Dsa Self Paced\")"
      ],
      "metadata": {
        "colab": {
          "base_uri": "https://localhost:8080/"
        },
        "id": "-6OQDA4xzdfR",
        "outputId": "774de4af-a8b9-42d2-c6fc-738210249205"
      },
      "execution_count": 66,
      "outputs": [
        {
          "output_type": "stream",
          "name": "stdout",
          "text": [
            "You are eligible to purchase Dsa Self Paced\n"
          ]
        }
      ]
    },
    {
      "cell_type": "code",
      "source": [
        "try:  \n",
        "    a = 10/1  \n",
        "    print (a)\n",
        "except ArithmeticError:  \n",
        "        print (\"This statement is raising an arithmetic exception.\")\n",
        "else:  \n",
        "    print (\"Success.\")"
      ],
      "metadata": {
        "colab": {
          "base_uri": "https://localhost:8080/"
        },
        "id": "PUKpsyBzz7Vb",
        "outputId": "efd8f1ce-0e61-4f3a-9255-5dd5b1a7a2a0"
      },
      "execution_count": 67,
      "outputs": [
        {
          "output_type": "stream",
          "name": "stdout",
          "text": [
            "10.0\n",
            "Success.\n"
          ]
        }
      ]
    },
    {
      "cell_type": "code",
      "source": [
        "# class Error is derived from super class Exception\n",
        "class Error(Exception):\n",
        " \n",
        "    # Error is derived class for Exception, but\n",
        "    # Base class for exceptions in this module\n",
        "    pass\n",
        " \n",
        "class TransitionError(Error):\n",
        " \n",
        "    # Raised when an operation attempts a state\n",
        "    # transition that's not allowed.\n",
        "    def __init__(self, prev, nex, msg):\n",
        "        self.prev = prev\n",
        "        self.next = nex\n",
        " \n",
        "        # Error message thrown is saved in msg\n",
        "        self.msg = msg\n",
        "try:\n",
        "    raise(TransitionError(2,3*2,\"Not Allowed\"))\n",
        " \n",
        "# Value of Exception is stored in error\n",
        "except TransitionError as error:\n",
        "    print('Exception occured: ',error.msg)"
      ],
      "metadata": {
        "colab": {
          "base_uri": "https://localhost:8080/"
        },
        "id": "9ct7G4F_0yaw",
        "outputId": "df812732-50a8-4b6e-d120-49102a7f9f7a"
      },
      "execution_count": 68,
      "outputs": [
        {
          "output_type": "stream",
          "name": "stdout",
          "text": [
            "Exception occured:  Not Allowed\n"
          ]
        }
      ]
    },
    {
      "cell_type": "code",
      "source": [
        "# Python code to illustrate with() alongwith write()\n",
        "with open(\"file.txt\", \"w\") as f:\n",
        "    f.write(\"Hello World!!!\")"
      ],
      "metadata": {
        "id": "_3hmdbSc1WX9"
      },
      "execution_count": 69,
      "outputs": []
    },
    {
      "cell_type": "code",
      "source": [
        "# Python code to illustrate split() function\n",
        "with open(\"file.txt\", \"r\") as file:\n",
        "\tdata = file.readlines()\n",
        "\tfor line in data:\n",
        "\t\tword = line.split()\n",
        "\t\tprint (word)\n",
        "\n"
      ],
      "metadata": {
        "colab": {
          "base_uri": "https://localhost:8080/"
        },
        "id": "aMWwJcnp1alu",
        "outputId": "c6921584-ad12-4f56-e016-762cd8ad34d5"
      },
      "execution_count": 73,
      "outputs": [
        {
          "output_type": "stream",
          "name": "stdout",
          "text": [
            "['Hello', 'World!!!']\n"
          ]
        }
      ]
    },
    {
      "cell_type": "code",
      "source": [
        "# Python program to demonstrate\n",
        "# opening a file\n",
        "\n",
        "\n",
        "# Open function to open the file \"myfile.txt\"\n",
        "# (same directory) in append mode and store\n",
        "# it's reference in the variable file1\n",
        "file1 = open(\"myfile.txt\", \"a\")\n",
        "\n",
        "# Writing to file\n",
        "file1.write(\"\\nWriting to file :)\")\n",
        "\n",
        "# Closing file\n",
        "file1.close()\n"
      ],
      "metadata": {
        "id": "iZxnE5r_19NN"
      },
      "execution_count": 74,
      "outputs": []
    },
    {
      "cell_type": "code",
      "source": [
        "# Program to show various ways to\n",
        "# read data from a file.\n",
        "\n",
        "# Creating a file\n",
        "file1 = open(\"myfile.txt\", \"w\")\n",
        "L = [\"This is Delhi \\n\", \"This is Paris \\n\", \"This is London \\n\"]\n",
        "\n",
        "# Writing data to a file\n",
        "file1.write(\"Hello \\n\")\n",
        "file1.writelines(L)\n",
        "file1.close() # to change file access modes\n",
        "\n",
        "file1 = open(\"myfile.txt\", \"r+\")\n",
        "\n",
        "print(\"Output of Read function is \")\n",
        "print(file1.read())\n",
        "print()\n",
        "\n",
        "# seek(n) takes the file handle to the nth\n",
        "# bite from the beginning.\n",
        "file1.seek(0)\n",
        "\n",
        "print(\"Output of Readline function is \")\n",
        "print(file1.readline())\n",
        "print()\n",
        "\n",
        "file1.seek(0)\n",
        "\n",
        "# To show difference between read and readline\n",
        "print(\"Output of Read(9) function is \")\n",
        "print(file1.read(9))\n",
        "print()\n",
        "\n",
        "file1.seek(0)\n",
        "\n",
        "print(\"Output of Readline(9) function is \")\n",
        "print(file1.readline(9))\n",
        "print()\n",
        "\n",
        "file1.seek(0)\n",
        "\n",
        "# readlines function\n",
        "print(\"Output of Readlines function is \")\n",
        "print(file1.readlines())\n",
        "print()\n",
        "file1.close()\n"
      ],
      "metadata": {
        "colab": {
          "base_uri": "https://localhost:8080/"
        },
        "id": "75-0kELJ2YnY",
        "outputId": "c62d7454-8daa-4792-c064-b29e2a4c394f"
      },
      "execution_count": 75,
      "outputs": [
        {
          "output_type": "stream",
          "name": "stdout",
          "text": [
            "Output of Read function is \n",
            "Hello \n",
            "This is Delhi \n",
            "This is Paris \n",
            "This is London \n",
            "\n",
            "\n",
            "Output of Readline function is \n",
            "Hello \n",
            "\n",
            "\n",
            "Output of Read(9) function is \n",
            "Hello \n",
            "Th\n",
            "\n",
            "Output of Readline(9) function is \n",
            "Hello \n",
            "\n",
            "\n",
            "Output of Readlines function is \n",
            "['Hello \\n', 'This is Delhi \\n', 'This is Paris \\n', 'This is London \\n']\n",
            "\n"
          ]
        }
      ]
    },
    {
      "cell_type": "code",
      "source": [
        "# Python program to illustrate\n",
        "# Append vs write mode\n",
        "with open(\"myfile.txt\", \"w\") as file1 :\n",
        "       L = [\"This is Delhi \\n\", \"This is Paris \\n\", \"This is London \\n\"]\n",
        "       file1.writelines(L)\n",
        "\n",
        "# Append-adds at last\n",
        "file1 = open(\"myfile.txt\", \"a\") # append mode\n",
        "file1.write(\"Today \\n\")\n",
        "file1.close()\n",
        "\n",
        "file1 = open(\"myfile.txt\", \"r\")\n",
        "print(\"Output of Readlines after appending\")\n",
        "print(file1.read())\n",
        "print()\n",
        "file1.close()\n",
        "\n",
        "# Write-Overwrites\n",
        "file1 = open(\"myfile.txt\", \"w\") # write mode\n",
        "file1.write(\"Tomorrow \\n\")\n",
        "file1.close()\n",
        "\n",
        "file1 = open(\"myfile.txt\", \"r\")\n",
        "print(\"Output of Readlines after writing\")\n",
        "print(file1.read())\n",
        "print()\n",
        "file1.close()\n"
      ],
      "metadata": {
        "colab": {
          "base_uri": "https://localhost:8080/"
        },
        "id": "qFgnGyc527ON",
        "outputId": "06282f95-6109-46cb-d014-0c8e0b850ec4"
      },
      "execution_count": 77,
      "outputs": [
        {
          "output_type": "stream",
          "name": "stdout",
          "text": [
            "Output of Readlines after appending\n",
            "This is Delhi \n",
            "This is Paris \n",
            "This is London \n",
            "Today \n",
            "\n",
            "\n",
            "Output of Readlines after writing\n",
            "Tomorrow \n",
            "\n",
            "\n"
          ]
        }
      ]
    },
    {
      "cell_type": "code",
      "source": [
        "# importing required library\n",
        "from pip._internal import main\n",
        "main(['install','mysql-connector-python-rf'])\n",
        "\n",
        "import mysql.connector\n",
        "\n",
        "# connecting to the database\n",
        "dataBase = mysql.connector.connect(\n",
        "\t\t\t\t\thost = \"localhost\",\n",
        "\t\t\t\t\tuser = \"user\",\n",
        "\t\t\t\t\tpasswd = \"gfg\",\n",
        "\t\t\t\t\tdatabase = \"geeks4geeks\" )\n",
        "\n",
        "# preparing a cursor object\n",
        "cursorObject = dataBase.cursor()\n",
        "\n",
        "# creating table\n",
        "studentRecord = \"\"\"CREATE TABLE STUDENT (\n",
        "\t\t\t\tNAME VARCHAR(20) NOT NULL,\n",
        "\t\t\t\tBRANCH VARCHAR(50),\n",
        "\t\t\t\tROLL INT NOT NULL,\n",
        "\t\t\t\tSECTION VARCHAR(5),\n",
        "\t\t\t\tAGE INT\n",
        "\t\t\t\t)\"\"\"\n",
        "\n",
        "# table created\n",
        "cursorObject.execute(studentRecord)\n",
        "\n",
        "# disconnecting from server\n",
        "dataBase.close()\n"
      ],
      "metadata": {
        "id": "CqN4SPTM4aJa"
      },
      "execution_count": null,
      "outputs": []
    },
    {
      "cell_type": "code",
      "source": [
        "!pip install mysql-connector-python-rf"
      ],
      "metadata": {
        "colab": {
          "base_uri": "https://localhost:8080/"
        },
        "id": "QsE1DCo65KXf",
        "outputId": "7f58bd0c-dab3-45eb-9179-a66d8415b4b8"
      },
      "execution_count": 84,
      "outputs": [
        {
          "output_type": "stream",
          "name": "stdout",
          "text": [
            "Looking in indexes: https://pypi.org/simple, https://us-python.pkg.dev/colab-wheels/public/simple/\n",
            "Requirement already satisfied: mysql-connector-python-rf in /usr/local/lib/python3.7/dist-packages (2.2.2)\n"
          ]
        }
      ]
    },
    {
      "cell_type": "code",
      "source": [
        "# Python program to illustrate the concept\n",
        "# of threading\n",
        "# importing the threading module\n",
        "import threading\n",
        "\n",
        "def print_cube(num):\n",
        "\t\"\"\"\n",
        "\tfunction to print cube of given num\n",
        "\t\"\"\"\n",
        "\tprint(\"Cube: {}\".format(num * num * num))\n",
        "\n",
        "def print_square(num):\n",
        "\t\"\"\"\n",
        "\tfunction to print square of given num\n",
        "\t\"\"\"\n",
        "\tprint(\"Square: {}\".format(num * num))\n",
        "\n",
        "if __name__ == \"__main__\":\n",
        "\t# creating thread\n",
        "\tt1 = threading.Thread(target=print_square, args=(10,))\n",
        "\tt2 = threading.Thread(target=print_cube, args=(10,))\n",
        "\n",
        "\t# starting thread 1\n",
        "\tt1.start()\n",
        "\t# starting thread 2\n",
        "\tt2.start()\n",
        "\n",
        "\t# wait until thread 1 is completely executed\n",
        "\tt1.join()\n",
        "\t# wait until thread 2 is completely executed\n",
        "\tt2.join()\n",
        "\n",
        "\t# both threads completely executed\n",
        "\tprint(\"Done!\")\n"
      ],
      "metadata": {
        "colab": {
          "base_uri": "https://localhost:8080/"
        },
        "id": "ZRy3gjKm6zXq",
        "outputId": "5d4fa955-29cb-4270-a25f-5ab1cccd1303"
      },
      "execution_count": 87,
      "outputs": [
        {
          "output_type": "stream",
          "name": "stdout",
          "text": [
            "Square: 100Cube: 1000\n",
            "\n",
            "Done!\n"
          ]
        }
      ]
    },
    {
      "cell_type": "code",
      "source": [
        "import json\n",
        "var = {\n",
        "\t\"Subjects\": {\n",
        "\t\t\t\t\"Maths\":85,\n",
        "\t\t\t\t\"Physics\":90\n",
        "\t\t\t\t}\n",
        "\t}\n",
        "\n",
        "with open(\"Sample.json\", \"w\") as p:\n",
        "\tjson.dump(var, p)\n"
      ],
      "metadata": {
        "id": "9CH1Lcc_8Pb9"
      },
      "execution_count": 89,
      "outputs": []
    },
    {
      "cell_type": "code",
      "source": [
        "with open(\"Sample.json\", \"r\") as read_it:\n",
        "\tdata = json.load(read_it)\n"
      ],
      "metadata": {
        "id": "wgp68wgH8bPa"
      },
      "execution_count": 90,
      "outputs": []
    },
    {
      "cell_type": "code",
      "source": [
        "json_var =\"\"\"\n",
        "{\n",
        "\t\"Country\": {\n",
        "\t\t\"name\": \"INDIA\",\n",
        "\t\t\"Languages_spoken\": [\n",
        "\t\t\t{\n",
        "\t\t\t\t\"names\": [\"Hindi\", \"English\", \"Bengali\", \"Telugu\"]\n",
        "\t\t\t}\n",
        "\t\t]\n",
        "\t}\n",
        "}\n",
        "\"\"\"\n",
        "var = json.loads(json_var)\n"
      ],
      "metadata": {
        "id": "8WCFqeCP8h9I"
      },
      "execution_count": 91,
      "outputs": []
    },
    {
      "cell_type": "code",
      "source": [
        "# Python program to illustrate\n",
        "# closures\n",
        "def outerFunction(text):\n",
        "\ttext = text\n",
        "\n",
        "\tdef innerFunction():\n",
        "\t\tprint(text)\n",
        "\n",
        "\t# Note we are returning function\n",
        "\t# WITHOUT parenthesis\n",
        "\treturn innerFunction\n",
        "\n",
        "if __name__ == '__main__':\n",
        "\tmyFunction = outerFunction('Hey!')\n",
        "myFunction()\n"
      ],
      "metadata": {
        "colab": {
          "base_uri": "https://localhost:8080/"
        },
        "id": "E7Yeh-a1lLRj",
        "outputId": "03195a95-a0d4-4c17-b680-f1524f2b3d8d"
      },
      "execution_count": 4,
      "outputs": [
        {
          "output_type": "stream",
          "name": "stdout",
          "text": [
            "Hey!\n"
          ]
        }
      ]
    },
    {
      "cell_type": "code",
      "source": [
        "# Python code\n",
        "# To reverse words in a given string\n",
        "\n",
        "# input string\n",
        "string = \"Veeraswamy Gatta\"\n",
        "# reversing words in a given string\n",
        "s = string.split()[::-1]\n",
        "l = []\n",
        "for i in s:\n",
        "\t# apending reversed words to l\n",
        "\tl.append(i)\n",
        "# printing reverse words\n",
        "print(\" \".join(l))\n"
      ],
      "metadata": {
        "colab": {
          "base_uri": "https://localhost:8080/"
        },
        "id": "0WkeBwXSoIpm",
        "outputId": "63701732-7db1-4437-d278-c92d62a4005d"
      },
      "execution_count": 7,
      "outputs": [
        {
          "output_type": "stream",
          "name": "stdout",
          "text": [
            "Gatta Veeraswamy\n"
          ]
        }
      ]
    },
    {
      "cell_type": "code",
      "source": [
        "# Python3 program to find whether the string\n",
        "# has all same characters or not.\n",
        "\n",
        "# Function to check the string has\n",
        "# all same characters or not .\n",
        "def allCharactersSame(s) :\n",
        "\tn = len(s)\n",
        "\tfor i in range(1, n) :\n",
        "\t\tif s[i] != s[0] :\n",
        "\t\t\treturn False\n",
        "\n",
        "\treturn True\n",
        "\n",
        "# Driver code\n",
        "if __name__ == \"__main__\" :\n",
        "\t\n",
        "\ts = \"aaa\"\n",
        "\tif allCharactersSame(s) :\n",
        "\t\tprint(\"Yes\")\n",
        "\telse :\n",
        "\t\tprint(\"No\")\n",
        "\n",
        "# This code is contributed by ANKITRAI1\n"
      ],
      "metadata": {
        "colab": {
          "base_uri": "https://localhost:8080/"
        },
        "id": "D7X31rbIqsln",
        "outputId": "16e73583-96c6-4e95-eba8-098c3cfe8de1"
      },
      "execution_count": 8,
      "outputs": [
        {
          "output_type": "stream",
          "name": "stdout",
          "text": [
            "Yes\n"
          ]
        }
      ]
    },
    {
      "cell_type": "code",
      "source": [
        "!pip list"
      ],
      "metadata": {
        "id": "HrEFCm1YJJQj"
      },
      "execution_count": null,
      "outputs": []
    },
    {
      "cell_type": "code",
      "source": [
        "import requests\n",
        "import time\n",
        "\n",
        "img_urls = [\n",
        "    'https://images.unsplash.com/photo-1516117172878-fd2c41f4a759',\n",
        "    'https://images.unsplash.com/photo-1532009324734-20a7a5813719',\n",
        "    'https://images.unsplash.com/photo-1524429656589-6633a470097c',\n",
        "    'https://images.unsplash.com/photo-1530224264768-7ff8c1789d79',\n",
        "    'https://images.unsplash.com/photo-1564135624576-c5c88640f235',\n",
        "    'https://images.unsplash.com/photo-1541698444083-023c97d3f4b6',\n",
        "    'https://images.unsplash.com/photo-1522364723953-452d3431c267',\n",
        "    'https://images.unsplash.com/photo-1513938709626-033611b8cc03',\n",
        "    'https://images.unsplash.com/photo-1507143550189-fed454f93097',\n",
        "    'https://images.unsplash.com/photo-1493976040374-85c8e12f0c0e',\n",
        "    'https://images.unsplash.com/photo-1504198453319-5ce911bafcde',\n",
        "    'https://images.unsplash.com/photo-1530122037265-a5f1f91d3b99',\n",
        "    'https://images.unsplash.com/photo-1516972810927-80185027ca84',\n",
        "    'https://images.unsplash.com/photo-1550439062-609e1531270e',\n",
        "    'https://images.unsplash.com/photo-1549692520-acc6669e2f0c'\n",
        "]\n",
        "\n",
        "t1 = time.perf_counter()\n",
        "\n",
        "\n",
        "for img_url in img_urls:\n",
        "    img_bytes = requests.get(img_url).content\n",
        "    img_name = img_url.split('/')[3]\n",
        "    img_name = f'{img_name}.jpg'\n",
        "    with open(img_name, 'wb') as img_file:\n",
        "        img_file.write(img_bytes)\n",
        "        print(f'{img_name} was downloaded...')\n",
        "\n",
        "t2 = time.perf_counter()\n",
        "\n",
        "print(f'Finished in {t2-t1} seconds')"
      ],
      "metadata": {
        "colab": {
          "base_uri": "https://localhost:8080/"
        },
        "id": "sFT_ISXbfzg1",
        "outputId": "8184fb59-5318-4b71-f13c-3154e1eb2f7e"
      },
      "execution_count": 5,
      "outputs": [
        {
          "output_type": "stream",
          "name": "stdout",
          "text": [
            "photo-1516117172878-fd2c41f4a759.jpg was downloaded...\n",
            "photo-1532009324734-20a7a5813719.jpg was downloaded...\n",
            "photo-1524429656589-6633a470097c.jpg was downloaded...\n",
            "photo-1530224264768-7ff8c1789d79.jpg was downloaded...\n",
            "photo-1564135624576-c5c88640f235.jpg was downloaded...\n",
            "photo-1541698444083-023c97d3f4b6.jpg was downloaded...\n",
            "photo-1522364723953-452d3431c267.jpg was downloaded...\n",
            "photo-1513938709626-033611b8cc03.jpg was downloaded...\n",
            "photo-1507143550189-fed454f93097.jpg was downloaded...\n",
            "photo-1493976040374-85c8e12f0c0e.jpg was downloaded...\n",
            "photo-1504198453319-5ce911bafcde.jpg was downloaded...\n",
            "photo-1530122037265-a5f1f91d3b99.jpg was downloaded...\n",
            "photo-1516972810927-80185027ca84.jpg was downloaded...\n",
            "photo-1550439062-609e1531270e.jpg was downloaded...\n",
            "photo-1549692520-acc6669e2f0c.jpg was downloaded...\n",
            "Finished in 2.065649735999955 seconds\n"
          ]
        }
      ]
    },
    {
      "cell_type": "code",
      "source": [
        "import requests\n",
        "import time\n",
        "import concurrent.futures\n",
        "\n",
        "img_urls = [\n",
        "    'https://images.unsplash.com/photo-1516117172878-fd2c41f4a759',\n",
        "    'https://images.unsplash.com/photo-1532009324734-20a7a5813719',\n",
        "    'https://images.unsplash.com/photo-1524429656589-6633a470097c',\n",
        "    'https://images.unsplash.com/photo-1530224264768-7ff8c1789d79',\n",
        "    'https://images.unsplash.com/photo-1564135624576-c5c88640f235',\n",
        "    'https://images.unsplash.com/photo-1541698444083-023c97d3f4b6',\n",
        "    'https://images.unsplash.com/photo-1522364723953-452d3431c267',\n",
        "    'https://images.unsplash.com/photo-1513938709626-033611b8cc03',\n",
        "    'https://images.unsplash.com/photo-1507143550189-fed454f93097',\n",
        "    'https://images.unsplash.com/photo-1493976040374-85c8e12f0c0e',\n",
        "    'https://images.unsplash.com/photo-1504198453319-5ce911bafcde',\n",
        "    'https://images.unsplash.com/photo-1530122037265-a5f1f91d3b99',\n",
        "    'https://images.unsplash.com/photo-1516972810927-80185027ca84',\n",
        "    'https://images.unsplash.com/photo-1550439062-609e1531270e',\n",
        "    'https://images.unsplash.com/photo-1549692520-acc6669e2f0c'\n",
        "]\n",
        "\n",
        "t1 = time.perf_counter()\n",
        "\n",
        "\n",
        "def download_image(img_url):\n",
        "    img_bytes = requests.get(img_url).content\n",
        "    img_name = img_url.split('/')[3]\n",
        "    img_name = f'{img_name}.jpg'\n",
        "    with open(img_name, 'wb') as img_file:\n",
        "        img_file.write(img_bytes)\n",
        "        print(f'{img_name} was downloaded...')\n",
        "\n",
        "\n",
        "with concurrent.futures.ThreadPoolExecutor() as executor:\n",
        "    executor.map(download_image, img_urls)\n",
        "\n",
        "\n",
        "t2 = time.perf_counter()\n",
        "\n",
        "print(f'Finished in {t2-t1} seconds')\n"
      ],
      "metadata": {
        "colab": {
          "base_uri": "https://localhost:8080/"
        },
        "id": "XVl7Na-Zd7-l",
        "outputId": "b6fc3bf0-a007-46ae-b53f-14dbd22ed7ea"
      },
      "execution_count": 1,
      "outputs": [
        {
          "output_type": "stream",
          "name": "stdout",
          "text": [
            "photo-1516117172878-fd2c41f4a759.jpg was downloaded...\n",
            "photo-1564135624576-c5c88640f235.jpg was downloaded...\n",
            "photo-1507143550189-fed454f93097.jpg was downloaded...\n",
            "photo-1530224264768-7ff8c1789d79.jpg was downloaded...\n",
            "photo-1513938709626-033611b8cc03.jpg was downloaded...\n",
            "photo-1532009324734-20a7a5813719.jpg was downloaded...\n",
            "photo-1522364723953-452d3431c267.jpg was downloaded...\n",
            "photo-1493976040374-85c8e12f0c0e.jpg was downloaded...\n",
            "photo-1530122037265-a5f1f91d3b99.jpg was downloaded...\n",
            "photo-1504198453319-5ce911bafcde.jpg was downloaded...\n",
            "photo-1516972810927-80185027ca84.jpg was downloaded...\n",
            "photo-1524429656589-6633a470097c.jpg was downloaded...\n",
            "photo-1541698444083-023c97d3f4b6.jpg was downloaded...\n",
            "photo-1549692520-acc6669e2f0c.jpg was downloaded...\n",
            "photo-1550439062-609e1531270e.jpg was downloaded...\n",
            "Finished in 2.248013639 seconds\n"
          ]
        }
      ]
    },
    {
      "cell_type": "code",
      "source": [
        "import concurrent.futures\n",
        "import time\n",
        "\n",
        "start = time.perf_counter()\n",
        "\n",
        "\n",
        "def do_something(seconds):\n",
        "    print(f'Sleeping {seconds} second(s)...')\n",
        "    time.sleep(seconds)\n",
        "    return f'Done Sleeping...{seconds}'\n",
        "\n",
        "\n",
        "with concurrent.futures.ProcessPoolExecutor() as executor:\n",
        "    secs = [5, 4, 3, 2, 1]\n",
        "    results = executor.map(do_something, secs)\n",
        "\n",
        "    # for result in results:\n",
        "    #     print(result)\n",
        "\n",
        "finish = time.perf_counter()\n",
        "\n",
        "print(f'Finished in {round(finish-start, 2)} second(s)')"
      ],
      "metadata": {
        "colab": {
          "base_uri": "https://localhost:8080/"
        },
        "id": "6oPjQ3RyeV4Q",
        "outputId": "d4299f01-bf2c-4e0c-a54c-7157bfd757ee"
      },
      "execution_count": 2,
      "outputs": [
        {
          "output_type": "stream",
          "name": "stdout",
          "text": [
            "Sleeping 5 second(s)...\n",
            "Sleeping 4 second(s)...\n",
            "Sleeping 3 second(s)...\n",
            "Sleeping 2 second(s)...\n",
            "Sleeping 1 second(s)...\n",
            "Finished in 8.07 second(s)\n"
          ]
        }
      ]
    },
    {
      "cell_type": "code",
      "source": [
        "\n",
        "import time\n",
        "import concurrent.futures\n",
        "from PIL import Image, ImageFilter\n",
        "\n",
        "img_names = [\n",
        "    'photo-1516117172878-fd2c41f4a759.jpg',\n",
        "    'photo-1532009324734-20a7a5813719.jpg',\n",
        "    'photo-1524429656589-6633a470097c.jpg',\n",
        "    'photo-1530224264768-7ff8c1789d79.jpg',\n",
        "    'photo-1564135624576-c5c88640f235.jpg',\n",
        "    'photo-1541698444083-023c97d3f4b6.jpg',\n",
        "    'photo-1522364723953-452d3431c267.jpg',\n",
        "    'photo-1513938709626-033611b8cc03.jpg',\n",
        "    'photo-1507143550189-fed454f93097.jpg',\n",
        "    'photo-1493976040374-85c8e12f0c0e.jpg',\n",
        "    'photo-1504198453319-5ce911bafcde.jpg',\n",
        "    'photo-1530122037265-a5f1f91d3b99.jpg',\n",
        "    'photo-1516972810927-80185027ca84.jpg',\n",
        "    'photo-1550439062-609e1531270e.jpg',\n",
        "    'photo-1549692520-acc6669e2f0c.jpg'\n",
        "]\n",
        "\n",
        "t1 = time.perf_counter()\n",
        "\n",
        "size = (1200, 1200)\n",
        "\n",
        "\n",
        "def process_image(img_name):\n",
        "    img = Image.open(img_name)\n",
        "\n",
        "    img = img.filter(ImageFilter.GaussianBlur(15))\n",
        "\n",
        "    img.thumbnail(size)\n",
        "    img.save(f'processed/{img_name}')\n",
        "    print(f'{img_name} was processed...')\n",
        "\n",
        "\n",
        "with concurrent.futures.ProcessPoolExecutor() as executor:\n",
        "    executor.map(process_image, img_names)\n",
        "\n",
        "\n",
        "t2 = time.perf_counter()\n",
        "\n",
        "print(f'Finished in {t2-t1} seconds')\n"
      ],
      "metadata": {
        "colab": {
          "base_uri": "https://localhost:8080/"
        },
        "id": "o3kLl6ype4aZ",
        "outputId": "d3e9f3ae-4528-4e9a-b442-0aa88afa687a"
      },
      "execution_count": 3,
      "outputs": [
        {
          "output_type": "stream",
          "name": "stdout",
          "text": [
            "photo-1516117172878-fd2c41f4a759.jpg was processed...\n",
            "photo-1532009324734-20a7a5813719.jpg was processed...\n",
            "photo-1524429656589-6633a470097c.jpg was processed...\n",
            "photo-1530224264768-7ff8c1789d79.jpg was processed...\n",
            "photo-1564135624576-c5c88640f235.jpg was processed...\n",
            "photo-1522364723953-452d3431c267.jpg was processed...\n",
            "photo-1541698444083-023c97d3f4b6.jpg was processed...\n",
            "photo-1507143550189-fed454f93097.jpg was processed...\n",
            "photo-1513938709626-033611b8cc03.jpg was processed...\n",
            "photo-1493976040374-85c8e12f0c0e.jpg was processed...\n",
            "photo-1504198453319-5ce911bafcde.jpg was processed...\n",
            "photo-1530122037265-a5f1f91d3b99.jpg was processed...\n",
            "photo-1516972810927-80185027ca84.jpg was processed...\n",
            "photo-1549692520-acc6669e2f0c.jpg was processed...\n",
            "photo-1550439062-609e1531270e.jpg was processed...\n",
            "Finished in 21.500180720999992 seconds\n"
          ]
        }
      ]
    },
    {
      "cell_type": "code",
      "source": [
        "import concurrent.futures\n",
        "import time\n",
        "\n",
        "start = time.perf_counter()\n",
        "\n",
        "\n",
        "def do_something(seconds):\n",
        "    print(f'Sleeping {seconds} second(s)...')\n",
        "    time.sleep(seconds)\n",
        "    return f'Done Sleeping...{seconds}'\n",
        "\n",
        "\n",
        "with concurrent.futures.ThreadPoolExecutor() as executor:\n",
        "    secs = [5, 4, 3, 2, 1]\n",
        "    results = executor.map(do_something, secs)\n",
        "\n",
        "    # for result in results:\n",
        "    #     print(result)\n",
        "\n",
        "\n",
        "\"\"\"\n",
        "threads = []\n",
        "\n",
        "for _ in range(10):\n",
        "   t = threading.Thread(target=do_something, args=[1.5])\n",
        "   t.start()\n",
        "   threads.append(t)\n",
        "\n",
        "for thread in threads:\n",
        "    thread.join()\n",
        "\n",
        "\"\"\"\n",
        "finish = time.perf_counter()\n",
        "\n",
        "print(f'Finished in {round(finish-start, 2)} second(s)')\n"
      ],
      "metadata": {
        "id": "1Ivu36e3fY_V"
      },
      "execution_count": null,
      "outputs": []
    }
  ]
}