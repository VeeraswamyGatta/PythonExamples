{
  "nbformat": 4,
  "nbformat_minor": 0,
  "metadata": {
    "colab": {
      "name": "contextmanager.ipynb",
      "provenance": [],
      "authorship_tag": "ABX9TyOcLThRD7ItyZMX7jV/+Bu9",
      "include_colab_link": true
    },
    "kernelspec": {
      "name": "python3",
      "display_name": "Python 3"
    },
    "language_info": {
      "name": "python"
    }
  },
  "cells": [
    {
      "cell_type": "markdown",
      "metadata": {
        "id": "view-in-github",
        "colab_type": "text"
      },
      "source": [
        "<a href=\"https://colab.research.google.com/github/veeraswamy87/PythonExamples/blob/master/contextmanager.ipynb\" target=\"_parent\"><img src=\"https://colab.research.google.com/assets/colab-badge.svg\" alt=\"Open In Colab\"/></a>"
      ]
    },
    {
      "cell_type": "code",
      "source": [
        "\n",
        "class Open_File():\n",
        "\n",
        "    def __init__(self, destination):\n",
        "        pass\n",
        "\n",
        "    def __enter__(self):\n",
        "        pass\n",
        "\n",
        "    def __exit__(self, exc_type, exc_val, traceback):\n",
        "        pass\n",
        "\n",
        "\n",
        "#### Using contextlib ####\n",
        "\n",
        "@contextmanager\n",
        "def open_file(file, mode):\n",
        "    f = open(file, mode)\n",
        "    yield f\n",
        "    f.close()\n",
        "\n",
        "\n",
        "with open_file('sample.txt', 'w') as f:\n",
        "    f.write('Veera')\n",
        "\n",
        "print(f.closed)\n",
        "\n",
        "\n",
        "#### CD Example ####\n",
        "\n",
        "cwd = os.getcwd()\n",
        "os.chdir('sample_data')\n",
        "print(os.listdir())\n",
        "os.chdir(cwd)\n",
        "\n",
        "\n",
        "\n"
      ],
      "metadata": {
        "id": "CyaoKM4UB81R"
      },
      "execution_count": null,
      "outputs": []
    },
    {
      "cell_type": "code",
      "execution_count": 1,
      "metadata": {
        "colab": {
          "base_uri": "https://localhost:8080/"
        },
        "id": "hBH9fvavBx-g",
        "outputId": "6d9c528e-38fc-48c4-b4f9-2864b2c531a1"
      },
      "outputs": [
        {
          "output_type": "stream",
          "name": "stdout",
          "text": [
            "['anscombe.json', 'README.md', 'california_housing_train.csv', 'california_housing_test.csv', 'mnist_train_small.csv', 'mnist_test.csv']\n"
          ]
        }
      ],
      "source": [
        "import os\n",
        "from contextlib import contextmanager\n",
        "\n",
        "\n",
        "@contextmanager\n",
        "def change_dir(destination):\n",
        "    try:\n",
        "        cwd = os.getcwd()\n",
        "        os.chdir(destination)\n",
        "        yield\n",
        "    finally:\n",
        "        os.chdir(cwd)\n",
        "\n",
        "\n",
        "with change_dir('sample_data'):\n",
        "    print(os.listdir())\n",
        "\n"
      ]
    }
  ]
}