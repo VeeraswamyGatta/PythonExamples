{
  "nbformat": 4,
  "nbformat_minor": 0,
  "metadata": {
    "colab": {
      "name": "List_tuple_Set.ipynb",
      "provenance": [],
      "authorship_tag": "ABX9TyMfypcFRzutVlK3GowFzWTS",
      "include_colab_link": true
    },
    "kernelspec": {
      "name": "python3",
      "display_name": "Python 3"
    },
    "language_info": {
      "name": "python"
    }
  },
  "cells": [
    {
      "cell_type": "markdown",
      "metadata": {
        "id": "view-in-github",
        "colab_type": "text"
      },
      "source": [
        "<a href=\"https://colab.research.google.com/github/veeraswamy87/PythonExamples/blob/master/List_tuple_Set.ipynb\" target=\"_parent\"><img src=\"https://colab.research.google.com/assets/colab-badge.svg\" alt=\"Open In Colab\"/></a>"
      ]
    },
    {
      "cell_type": "code",
      "execution_count": 2,
      "metadata": {
        "colab": {
          "base_uri": "https://localhost:8080/"
        },
        "id": "GB6dUKMfiYUQ",
        "outputId": "daca06a9-ea3e-4a10-e03f-851ee0962370"
      },
      "outputs": [
        {
          "output_type": "stream",
          "name": "stdout",
          "text": [
            "['History', 'Physics', 'CompSci', 'Veera']\n",
            "['History', 'Physics', 'CompSci', 'Veera']\n",
            "{'Math', 'Physics', 'CompSci', 'History'}\n"
          ]
        }
      ],
      "source": [
        "# Mutable\n",
        "list_1 = ['History', 'Math', 'Physics', 'CompSci']\n",
        "list_2 = list_1\n",
        "\n",
        "list_2.append('Veera')\n",
        "list_2.remove('Math')\n",
        "\n",
        "print(list_1)\n",
        "print(list_2)\n",
        "\n",
        "# list_1[0] = 'Art'\n",
        "\n",
        "# print(list_1)\n",
        "# print(list_2)\n",
        "\n",
        "\n",
        "# Immutable\n",
        "# tuple_1 = ('History', 'Math', 'Physics', 'CompSci')\n",
        "# tuple_2 = tuple_1\n",
        "\n",
        "# print(tuple_1)\n",
        "# print(tuple_2)\n",
        "\n",
        "# tuple_1[0] = 'Art'\n",
        "\n",
        "# print(tuple_1)\n",
        "# print(tuple_2)\n",
        "\n",
        "# Sets\n",
        "cs_courses = {'History', 'Math', 'Physics', 'CompSci'}\n",
        "\n",
        "print(cs_courses)\n",
        "\n",
        "\n",
        "# Empty Lists\n",
        "empty_list = []\n",
        "empty_list = list()\n",
        "\n",
        "# Empty Tuples\n",
        "empty_tuple = ()\n",
        "empty_tuple = tuple()\n",
        "\n",
        "# Empty Sets\n",
        "empty_set = {} # This isn't right! It's a dict\n",
        "empty_set = set()\n"
      ]
    }
  ]
}